{
 "cells": [
  {
   "cell_type": "code",
   "execution_count": 3,
   "id": "25e216cd-7126-4428-94e9-e4c5338616b6",
   "metadata": {},
   "outputs": [],
   "source": [
    "import os\n",
    "import random\n",
    "import re\n",
    "import openpyxl\n",
    "import csv\n",
    "import pandas as pd"
   ]
  },
  {
   "cell_type": "code",
   "execution_count": 5,
   "id": "167d23fd-0eb2-4338-8538-0c9963c96a15",
   "metadata": {},
   "outputs": [],
   "source": [
    "#轉換資料所需暫存變數\n",
    "playState = -1 #0:遊戲初始化階段 1:打牌階段 2:和牌 3:流局\n",
    "startPlayer = 0\n",
    "eventState = 0 #0:nothing 1:REACH 2:N 3:DORA 4:INIT DORA\n",
    "eventPlayer = -1\n",
    "windlist = [0,1,2,3]#0:東 1:南 2:西 3:北 \n",
    "Field_wind = 0\n",
    "score = [250,250,250,250]\n",
    "dora = [-1,-1,-1,-1,-1] \n",
    "hai0 = []\n",
    "hai1 = []\n",
    "hai2 = []\n",
    "hai3 = []\n",
    "N0 = []\n",
    "N1 = []\n",
    "N2 = []\n",
    "N3 = []\n",
    "rounds = 0\n",
    "play1Dis = []\n",
    "play2Dis = []\n",
    "play3Dis = []\n",
    "play4Dis = []\n",
    "IfREACHPlayer = [0,0,0,0] \n",
    "IfPlayerChow = [0,0,0,0]\n",
    "IfPlayerPung = [0,0,0,0]\n",
    "IfPlayerKong = [0,0,0,0]\n",
    "datalist = []\n",
    "rowData = [0]*35\n",
    "#注意 剛加入還是可以透過rowData改datalist的值\n",
    "cur_game = 1\n",
    "total_games = 100000"
   ]
  },
  {
   "cell_type": "code",
   "execution_count": null,
   "id": "fa648cc4-5610-4f1a-9c3a-128c04f23ce9",
   "metadata": {},
   "outputs": [],
   "source": []
  }
 ],
 "metadata": {
  "kernelspec": {
   "display_name": "Python 3 (ipykernel)",
   "language": "python",
   "name": "python3"
  },
  "language_info": {
   "codemirror_mode": {
    "name": "ipython",
    "version": 3
   },
   "file_extension": ".py",
   "mimetype": "text/x-python",
   "name": "python",
   "nbconvert_exporter": "python",
   "pygments_lexer": "ipython3",
   "version": "3.12.4"
  }
 },
 "nbformat": 4,
 "nbformat_minor": 5
}
