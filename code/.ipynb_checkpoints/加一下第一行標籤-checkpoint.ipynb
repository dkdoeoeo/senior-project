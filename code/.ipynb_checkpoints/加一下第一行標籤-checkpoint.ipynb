{
 "cells": [
  {
   "cell_type": "code",
   "execution_count": 71,
   "id": "df89998c",
   "metadata": {},
   "outputs": [],
   "source": [
    "import pandas as pd\n",
    "\n",
    "# 讀取第一個 CSV 檔案，假設其第一列的名子存放在第一列\n",
    "df1 = pd.read_csv('file1.csv', header=None)\n",
    "names = df1.iloc[0, :153].values  # 提取前153個名子\n",
    "\n",
    "# 讀取第二個 CSV 檔案\n",
    "df2 = pd.read_csv('file2.csv')\n",
    "\n",
    "# 創建一個新的 DataFrame，將第二個 CSV 檔案的資料下移一格\n",
    "new_df2 = pd.DataFrame(index=range(len(df2)+1), columns=df2.columns)\n",
    "new_df2.iloc[1:, :] = df2.values\n",
    "\n",
    "# 將第一個 CSV 的名子插入到新 DataFrame 的第一列\n",
    "new_df2.iloc[0, :] = names\n",
    "\n",
    "# 將修改後的 DataFrame 儲存到新的 CSV 檔案\n",
    "new_df2.to_csv('output.csv', index=False)\n",
    "\n",
    "print(\"處理完成！\")"
   ]
  }
 ],
 "metadata": {
  "kernelspec": {
   "display_name": "Python 3 (ipykernel)",
   "language": "python",
   "name": "python3"
  },
  "language_info": {
   "codemirror_mode": {
    "name": "ipython",
    "version": 3
   },
   "file_extension": ".py",
   "mimetype": "text/x-python",
   "name": "python",
   "nbconvert_exporter": "python",
   "pygments_lexer": "ipython3",
   "version": "3.11.4"
  }
 },
 "nbformat": 4,
 "nbformat_minor": 5
}
